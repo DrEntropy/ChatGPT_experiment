{
 "cells": [
  {
   "cell_type": "code",
   "execution_count": 1,
   "metadata": {},
   "outputs": [],
   "source": [
    "import openai\n",
    "import textwrap as _tw\n",
    "from credentials import api_key\n",
    "openai.api_key = api_key\n",
    "\n",
    "MODEL = \"gpt-3.5-turbo\"\n",
    "\n",
    "MODEL4 = 'gpt-4'"
   ]
  },
  {
   "attachments": {},
   "cell_type": "markdown",
   "metadata": {},
   "source": [
    "Verify working\n"
   ]
  },
  {
   "cell_type": "code",
   "execution_count": 32,
   "metadata": {},
   "outputs": [
    {
     "name": "stdout",
     "output_type": "stream",
     "text": [
      "appears that way because of the way our atmosphere scatters sunlight. When light from the sun enters\n",
      "our atmosphere, it encounters gases and particles in the air that scatter the light in all different\n",
      "directions. This happens most strongly with shorter, blue wavelengths of light, which is why the sky\n",
      "looks blue to us.\n"
     ]
    }
   ],
   "source": [
    "\n",
    "\n",
    "initial_messages = [{\"role\":\"system\", \"content\": \"You are a helpful assistant.\"},\n",
    "                    {\"role\": \"user\", \"content\": \"Why is the sky blue?\"},\n",
    "                    {\"role\": \"assistant\", \"content\" : \"The sky is not really blue, but \"}]\n",
    "completion = openai.ChatCompletion.create(\n",
    "    model=MODEL,\n",
    "    messages= initial_messages)\n",
    "print(_tw.fill(completion.choices[0].message.content, width=100))"
   ]
  },
  {
   "attachments": {},
   "cell_type": "markdown",
   "metadata": {},
   "source": [
    "## Goals\n",
    "\n",
    "* Generate a story and then interact with it by interjecting changes to it. \n",
    "\n",
    "*  TODO: Allow user to save/load a story.\n",
    "\n",
    "* TODO: Add a method to create a story summary for continuation. (partially done, and seems to work). But Ideally we should have another class that manages the various 'chapters' and can combine them (without the 'story so far' part.)  \n",
    "\n",
    "* BUG: Summarizing a story that was based on a summary causes the story have multiple \"story so far\" sections."
   ]
  },
  {
   "cell_type": "code",
   "execution_count": 35,
   "metadata": {},
   "outputs": [
    {
     "name": "stdout",
     "output_type": "stream",
     "text": [
      "were unable to appreciate its full potential due to the heavy traffic on the road.\n"
     ]
    }
   ],
   "source": [
    "initial_messages = [{\"role\":\"system\", \"content\": \"You are a helpful editor.\"},\n",
    "                    {\"role\": \"user\", \"content\": \"Finish the final sentance in this text: The car was very fast! However, we\"} ]\n",
    "completion = openai.ChatCompletion.create(\n",
    "    model=MODEL,\n",
    "    messages= initial_messages)\n",
    "print(_tw.fill(completion.choices[0].message.content, width=100))"
   ]
  },
  {
   "cell_type": "code",
   "execution_count": 2,
   "metadata": {},
   "outputs": [],
   "source": [
    "class gpt_story:\n",
    "    def __init__(self, topic = \"anything\", model = MODEL, max_tokens = 100):\n",
    "        self.model = model\n",
    "        self.topic = topic\n",
    "        self.max_tokens = max_tokens\n",
    "        self.based_on_summary = False\n",
    "        self.messages = [{\"role\":\"system\", \"content\": \"You are a creative writer.\"},\n",
    "                                 {\"role\": \"user\", \"content\": f\"Write a story about {topic}.\"}]\n",
    "\n",
    "\n",
    "    def query_gpt(self):\n",
    "        completion = openai.ChatCompletion.create(\n",
    "            model=self.model,\n",
    "            messages= self.messages, max_tokens = self.max_tokens)\n",
    "        self.messages = self.messages + [dict(completion.choices[0].message)]\n",
    "\n",
    "    def tell_story(self):\n",
    "        self.query_gpt()\n",
    "        self.clean_up_last_message()\n",
    "        return self\n",
    "    \n",
    "    # This serves to make sure the last message is a complete sentence. Currently if the last sentence is complete\n",
    "    # it still adds another. This is a bug that should be fixed but not critical.\n",
    "    def clean_up_last_message(self):\n",
    "        last_message = self.messages[-1]['content']\n",
    "        cleanup_messages = [{\"role\":\"system\", \"content\": \"You are a helpful editor.\"},\n",
    "                    {\"role\": \"user\", \"content\": \"Finish the final sentence in this text if needed: \" + last_message} ]\n",
    "        completion = openai.ChatCompletion.create(model=MODEL, messages= cleanup_messages)\n",
    "        self.messages[-1]['content'] = last_message + \" \" + completion.choices[0].message.content\n",
    "        return self\n",
    "\n",
    "        \n",
    "    def continue_with(self, message):\n",
    "        message_dict = {'role':'assistant', 'content' : message}\n",
    "        self.messages = self.messages +  [message_dict]\n",
    "        self.tell_story()\n",
    "        return self\n",
    "\n",
    "\n",
    "    def summarize(self): \n",
    "        story_so_far = ' '.join([message['content'] for message in self.messages[2:]])\n",
    "        summary = openai.Completion.create(\n",
    "            model = \"text-davinci-003\",\n",
    "            prompt = story_so_far + \"tl;dr\",\n",
    "            max_tokens = 100\n",
    "        )\n",
    "        # Generate a new story starting with the summary\n",
    "        new_story = gpt_story(topic=self.topic, model=self.model, max_tokens=self.max_tokens)\n",
    "        new_story.messages += [{\"role\": \"user\", \"content\": \"The story so far: \"+summary.choices[0].text}]\n",
    "        new_story.based_on_summary = True\n",
    "        return new_story\n",
    "            \n",
    "\n",
    "    def __repr__(self):\n",
    "        if self.based_on_summary:\n",
    "            return _tw.fill(' '.join([message['content'] for message in self.messages[3:]]), width=120)\n",
    "        return _tw.fill(' '.join([message['content'] for message in self.messages[2:]]), width=120)\n",
    "    \n",
    "    def __len__(self):\n",
    "        return len(self.messages)\n",
    "    \n",
    "    def __getitem__(self, key):\n",
    "        return self.messages[key]\n",
    "    \n",
    "    def __iter__(self):\n",
    "        return iter(self.messages)\n",
    " "
   ]
  },
  {
   "attachments": {},
   "cell_type": "markdown",
   "metadata": {},
   "source": [
    "For demonstration purposes, we will use a short max token length of 60. This will allow us to see the story generation process in a reasonable amount of time."
   ]
  },
  {
   "cell_type": "code",
   "execution_count": 3,
   "metadata": {},
   "outputs": [
    {
     "data": {
      "text/plain": [
       "The sun had just begun to rise, casting a soft orange glow across the ocean's surface. The morning breeze carried the\n",
       "salty scent of the sea, and tiny waves gently crashed against the side of the boat. John, a seasoned sailor, adjusted\n",
       "his sails and took a deep breath of the fresh ocean air, feeling grateful to be alive and witnessing the breathtaking\n",
       "beauty of nature."
      ]
     },
     "execution_count": 3,
     "metadata": {},
     "output_type": "execute_result"
    }
   ],
   "source": [
    "test = gpt_story(\"sailing\", max_tokens=60, model=MODEL)\n",
    "test.tell_story()"
   ]
  },
  {
   "attachments": {},
   "cell_type": "markdown",
   "metadata": {},
   "source": [
    "Ok, we can continue with the story generation process by just calling `tell_story` again and again:"
   ]
  },
  {
   "cell_type": "code",
   "execution_count": 4,
   "metadata": {},
   "outputs": [
    {
     "data": {
      "text/plain": [
       "The sun had just begun to rise, casting a soft orange glow across the ocean's surface. The morning breeze carried the\n",
       "salty scent of the sea, and tiny waves gently crashed against the side of the boat. John, a seasoned sailor, adjusted\n",
       "his sails and took a deep breath of the fresh ocean air, feeling grateful to be alive and witnessing the breathtaking\n",
       "beauty of nature. John had been sailing since he was a teenager. He loved the freedom it gave him, and the feeling of\n",
       "being one with the sea. Today, however, he felt a different kind of excitement. He was on his way to meet his childhood\n",
       "friend, Jake, who had just bought a sailboat and they were planning to sail together for the first time in years."
      ]
     },
     "execution_count": 4,
     "metadata": {},
     "output_type": "execute_result"
    }
   ],
   "source": [
    "test.tell_story()"
   ]
  },
  {
   "attachments": {},
   "cell_type": "markdown",
   "metadata": {},
   "source": [
    "But, if we want to continue the story in a different way, we can add our own text to the story and then continue from there:"
   ]
  },
  {
   "cell_type": "code",
   "execution_count": 5,
   "metadata": {},
   "outputs": [
    {
     "data": {
      "text/plain": [
       "The sun had just begun to rise, casting a soft orange glow across the ocean's surface. The morning breeze carried the\n",
       "salty scent of the sea, and tiny waves gently crashed against the side of the boat. John, a seasoned sailor, adjusted\n",
       "his sails and took a deep breath of the fresh ocean air, feeling grateful to be alive and witnessing the breathtaking\n",
       "beauty of nature. John had been sailing since he was a teenager. He loved the freedom it gave him, and the feeling of\n",
       "being one with the sea. Today, however, he felt a different kind of excitement. He was on his way to meet his childhood\n",
       "friend, Jake, who had just bought a sailboat and they were planning to sail together for the first time in years. He had\n",
       "always dreamed of sailing a large double masted boat like the one Jake had aquired. As John approached the shore where\n",
       "Jake was waiting, he could see the excitement in his friend's eyes. Together, they hoisted the sails and set out on the\n",
       "vast expanse of the ocean.  They sailed for hours, taking turns at the helm and enjoying the peaceful and serene\n",
       "surroundings. The wind was in their favor, and the sun was shining brightly overhead. It was the perfect day for\n",
       "sailing."
      ]
     },
     "execution_count": 5,
     "metadata": {},
     "output_type": "execute_result"
    }
   ],
   "source": [
    "test.continue_with(\"He had always dreamed of sailing a large double masted boat like the one Jake had aquired.\")"
   ]
  },
  {
   "attachments": {},
   "cell_type": "markdown",
   "metadata": {},
   "source": [
    "Finally, if the story starts getting too long, we can summarize it and then continue from there. This will not include the previous parts however."
   ]
  },
  {
   "cell_type": "code",
   "execution_count": 6,
   "metadata": {},
   "outputs": [],
   "source": [
    "chapter2 = test.summarize()"
   ]
  },
  {
   "cell_type": "code",
   "execution_count": 7,
   "metadata": {},
   "outputs": [
    {
     "data": {
      "text/plain": [
       "[{'role': 'system', 'content': 'You are a creative writer.'},\n",
       " {'role': 'user', 'content': 'Write a story about sailing.'},\n",
       " {'role': 'user',\n",
       "  'content': \"The story so far: \\n\\nJohn and Jake went sailing together on a beautiful day. John had dreamed of sailing a double masted boat and was excited to finally see Jake's new sailboat. They spent hours at sea, taking turns steering and taking in the peaceful surroundings. It was a perfect day for sailing and a great experience for them both.\"}]"
      ]
     },
     "execution_count": 7,
     "metadata": {},
     "output_type": "execute_result"
    }
   ],
   "source": [
    "chapter2.messages"
   ]
  },
  {
   "cell_type": "code",
   "execution_count": 10,
   "metadata": {},
   "outputs": [
    {
     "data": {
      "text/plain": [
       "As the sun began to set, they decided to anchor at a nearby island and set up camp for the night. They built a fire and\n",
       "grilled fresh fish that John had caught earlier that day. With full stomachs, they sat by the fire and talked about\n",
       "their lives, dreams, and adventures.   The sound of waves and the crackling fire lured them into a peaceful slumber\n",
       "under the starry sky."
      ]
     },
     "execution_count": 10,
     "metadata": {},
     "output_type": "execute_result"
    }
   ],
   "source": [
    "chapter2.tell_story()"
   ]
  },
  {
   "cell_type": "code",
   "execution_count": null,
   "metadata": {},
   "outputs": [],
   "source": []
  }
 ],
 "metadata": {
  "kernelspec": {
   "display_name": "openai",
   "language": "python",
   "name": "python3"
  },
  "language_info": {
   "codemirror_mode": {
    "name": "ipython",
    "version": 3
   },
   "file_extension": ".py",
   "mimetype": "text/x-python",
   "name": "python",
   "nbconvert_exporter": "python",
   "pygments_lexer": "ipython3",
   "version": "3.11.0"
  },
  "orig_nbformat": 4
 },
 "nbformat": 4,
 "nbformat_minor": 2
}
