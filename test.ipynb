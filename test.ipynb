{
 "cells": [
  {
   "cell_type": "code",
   "execution_count": 2,
   "metadata": {},
   "outputs": [],
   "source": [
    "import openai\n",
    "from credentials import api_key\n",
    "openai.api_key = api_key"
   ]
  },
  {
   "cell_type": "code",
   "execution_count": 3,
   "metadata": {},
   "outputs": [],
   "source": [
    "MODEL = \"gpt-3.5-turbo\"\n",
    "\n",
    "initial_messages = [\n",
    "             {\"role\": \"system\", \"content\": \"You are a graph theorist.\"},\n",
    "             {\"role\": \"user\", \"content\": \"Node A is connected to Node B and C. Node C is also connected to Node D and E.  Node B is connected only to Node A. What is the distance from A to D?\"}\n",
    "             ]"
   ]
  },
  {
   "cell_type": "code",
   "execution_count": 4,
   "metadata": {},
   "outputs": [
    {
     "name": "stdout",
     "output_type": "stream",
     "text": [
      "\n",
      "\n",
      "The distance from A to D can be calculated by counting the minimum number of edges that need to be traversed to reach D from A. \n",
      "\n",
      "One possible path from A to D is A-C-D which involves two edges. Therefore, the distance from A to D is 2.\n"
     ]
    }
   ],
   "source": [
    "completion = openai.ChatCompletion.create(\n",
    "    model=MODEL,\n",
    "    messages= initial_messages)\n",
    "print(completion.choices[0].message.content)"
   ]
  },
  {
   "cell_type": "code",
   "execution_count": 6,
   "metadata": {},
   "outputs": [],
   "source": [
    "new_message = initial_messages + [dict(completion.choices[0].message),\n",
    "                     {'role':'user', 'content' : 'Can you provide a drawing of the graph?'}]"
   ]
  },
  {
   "cell_type": "code",
   "execution_count": 7,
   "metadata": {},
   "outputs": [
    {
     "name": "stdout",
     "output_type": "stream",
     "text": [
      "Certainly, here is a drawing of the graph:\n",
      "\n",
      "```\n",
      "A --- B\n",
      "|     |\n",
      "C --- D\n",
      "     |\n",
      "     E\n",
      "``` \n",
      "\n",
      "Node A is connected to nodes B and C through edges, node B is only connected to node A, node C is connected to nodes A, D, and E through edges, node D is connected to nodes C and E through edges, and node E is only connected to node D.\n"
     ]
    }
   ],
   "source": [
    "completion = openai.ChatCompletion.create(\n",
    "    model=MODEL,\n",
    "    messages= new_message)\n",
    "print(completion.choices[0].message.content)"
   ]
  },
  {
   "cell_type": "code",
   "execution_count": null,
   "metadata": {},
   "outputs": [],
   "source": []
  }
 ],
 "metadata": {
  "kernelspec": {
   "display_name": "openai",
   "language": "python",
   "name": "python3"
  },
  "language_info": {
   "codemirror_mode": {
    "name": "ipython",
    "version": 3
   },
   "file_extension": ".py",
   "mimetype": "text/x-python",
   "name": "python",
   "nbconvert_exporter": "python",
   "pygments_lexer": "ipython3",
   "version": "3.11.0"
  },
  "orig_nbformat": 4
 },
 "nbformat": 4,
 "nbformat_minor": 2
}
