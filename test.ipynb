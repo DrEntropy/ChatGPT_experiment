{
 "cells": [
  {
   "cell_type": "code",
   "execution_count": 1,
   "metadata": {},
   "outputs": [],
   "source": [
    "import openai\n",
    "import credentials"
   ]
  },
  {
   "cell_type": "code",
   "execution_count": 8,
   "metadata": {},
   "outputs": [],
   "source": [
    "MODEL = \"gpt-3.5-turbo\"\n",
    "\n",
    "initial_messages = [\n",
    "             {\"role\": \"system\", \"content\": \"You are a graph theorist.\"},\n",
    "             {\"role\": \"user\", \"content\": \"Node A is connected to Node B and C. Node C is also connected to Node D and E.  Node B is connected only to Node A. What is the distance from A to D?\"}\n",
    "             ]"
   ]
  },
  {
   "cell_type": "code",
   "execution_count": 9,
   "metadata": {},
   "outputs": [
    {
     "name": "stdout",
     "output_type": "stream",
     "text": [
      "\n",
      "\n",
      "The shortest distance from A to D would be through Node C, so the distance would be 2 (A->C->D).\n"
     ]
    }
   ],
   "source": [
    "completion = openai.ChatCompletion.create(\n",
    "    model=MODEL,\n",
    "    messages= initial_messages)\n",
    "print(completion.choices[0].message.content)"
   ]
  },
  {
   "cell_type": "code",
   "execution_count": 10,
   "metadata": {},
   "outputs": [],
   "source": [
    "new_message = initial_messages + [dict(completion.choices[0].message),\n",
    "                     {'role':'user', 'content' : 'Can you provide a drawing of the graph?'}]"
   ]
  },
  {
   "cell_type": "code",
   "execution_count": 11,
   "metadata": {},
   "outputs": [
    {
     "name": "stdout",
     "output_type": "stream",
     "text": [
      "Yes, here's a depiction of the graph:\n",
      "\n",
      "```\n",
      "   A\n",
      "  / \\\n",
      " B   C\n",
      "      / \\\n",
      "     D   E\n",
      "``` \n",
      "\n",
      "In this diagram, the nodes are labeled A, B, C, D, and E. The edges connecting them are represented by lines. For example, there is an edge between nodes A and B, and also an edge between nodes A and C.\n"
     ]
    }
   ],
   "source": [
    "completion = openai.ChatCompletion.create(\n",
    "    model=MODEL,\n",
    "    messages= new_message)\n",
    "print(completion.choices[0].message.content)"
   ]
  },
  {
   "cell_type": "code",
   "execution_count": null,
   "metadata": {},
   "outputs": [],
   "source": []
  }
 ],
 "metadata": {
  "kernelspec": {
   "display_name": "openai",
   "language": "python",
   "name": "python3"
  },
  "language_info": {
   "codemirror_mode": {
    "name": "ipython",
    "version": 3
   },
   "file_extension": ".py",
   "mimetype": "text/x-python",
   "name": "python",
   "nbconvert_exporter": "python",
   "pygments_lexer": "ipython3",
   "version": "3.11.0"
  },
  "orig_nbformat": 4
 },
 "nbformat": 4,
 "nbformat_minor": 2
}
