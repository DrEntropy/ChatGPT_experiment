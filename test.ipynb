{
 "cells": [
  {
   "cell_type": "code",
   "execution_count": 1,
   "metadata": {},
   "outputs": [],
   "source": [
    "import openai\n",
    "import textwrap as _tw\n",
    "from credentials import api_key\n",
    "openai.api_key = api_key\n",
    "\n",
    "MODEL = \"gpt-3.5-turbo\""
   ]
  },
  {
   "attachments": {},
   "cell_type": "markdown",
   "metadata": {},
   "source": [
    "## Tokens\n"
   ]
  },
  {
   "attachments": {},
   "cell_type": "markdown",
   "metadata": {},
   "source": [
    "An example where i give the assistant a few words to start with "
   ]
  },
  {
   "cell_type": "code",
   "execution_count": 3,
   "metadata": {},
   "outputs": [
    {
     "name": "stdout",
     "output_type": "stream",
     "text": [
      "it appears that way due to a phenomenon known as Rayleigh scattering. When sunlight passes through\n",
      "Earth's atmosphere, the shorter blue wavelengths of light are scattered more in all directions than\n",
      "the longer red wavelengths. This makes the blue light more visible to our eyes and makes the sky\n",
      "above us appear blue.\n"
     ]
    }
   ],
   "source": [
    "\n",
    "\n",
    "initial_messages = [{\"role\":\"system\", \"content\": \"You are a helpful assistant.\"},\n",
    "                    {\"role\": \"user\", \"content\": \"Why is the sky blue?\"},\n",
    "                    {\"role\": \"assistant\", \"content\" : \"The sky is not really blue, but \"}]\n",
    "completion = openai.ChatCompletion.create(\n",
    "    model=MODEL,\n",
    "    messages= initial_messages)\n",
    "print(_tw.fill(completion.choices[0].message.content, width=100))"
   ]
  },
  {
   "cell_type": "code",
   "execution_count": 32,
   "metadata": {},
   "outputs": [],
   "source": [
    "next_word = openai.ChatCompletion.create(\n",
    "    model=MODEL,\n",
    "    messages= initial_messages,\n",
    "    n=4, max_tokens = 3)"
   ]
  },
  {
   "cell_type": "code",
   "execution_count": 33,
   "metadata": {},
   "outputs": [
    {
     "data": {
      "text/plain": [
       "[<OpenAIObject at 0x223a2a9e030> JSON: {\n",
       "   \"finish_reason\": \"length\",\n",
       "   \"index\": 0,\n",
       "   \"message\": {\n",
       "     \"content\": \"because of\",\n",
       "     \"role\": \"assistant\"\n",
       "   }\n",
       " },\n",
       " <OpenAIObject at 0x223a2a9ce90> JSON: {\n",
       "   \"finish_reason\": \"length\",\n",
       "   \"index\": 1,\n",
       "   \"message\": {\n",
       "     \"content\": \"due to\",\n",
       "     \"role\": \"assistant\"\n",
       "   }\n",
       " },\n",
       " <OpenAIObject at 0x223a2a9e0f0> JSON: {\n",
       "   \"finish_reason\": \"length\",\n",
       "   \"index\": 2,\n",
       "   \"message\": {\n",
       "     \"content\": \"because of\",\n",
       "     \"role\": \"assistant\"\n",
       "   }\n",
       " },\n",
       " <OpenAIObject at 0x223a29478f0> JSON: {\n",
       "   \"finish_reason\": \"length\",\n",
       "   \"index\": 3,\n",
       "   \"message\": {\n",
       "     \"content\": \"because of\",\n",
       "     \"role\": \"assistant\"\n",
       "   }\n",
       " }]"
      ]
     },
     "execution_count": 33,
     "metadata": {},
     "output_type": "execute_result"
    }
   ],
   "source": [
    "next_word['choices']"
   ]
  },
  {
   "attachments": {},
   "cell_type": "markdown",
   "metadata": {},
   "source": [
    "How about a story?"
   ]
  },
  {
   "cell_type": "code",
   "execution_count": 26,
   "metadata": {},
   "outputs": [
    {
     "name": "stdout",
     "output_type": "stream",
     "text": [
      "As the sun slowly sank beneath the horizon, casting an orange glow across the sky, the air around\n",
      "her grew cooler. She pulled her jacket tightly around her, feeling the weight of her backpack on her\n",
      "shoulders. She had been walking for hours, lost in thought and lost in the vast wilderness around\n",
      "her.  But as she trudged forward, she began to hear a faint sound in the distance. At first, she\n",
      "thought it was just her tired mind playing tricks on her. But as she continued down the path, the\n",
      "sound grew louder and more distinct.  It was music.  It was ethereal, haunting, and beautiful all at\n",
      "once. She followed the sound, her heart pounding with anticipation, until she stumbled upon a\n",
      "clearing.  And there, in the center of the clearing, was a group of people. They were dressed in\n",
      "flowing robes of all colors, their faces illuminated by the glow of the flickering torches\n",
      "surrounding them.  And they were dancing.  She watched as they spun and twirled around each other,\n",
      "lost in the rhythm of the music. And then, one of them saw her. She froze, unsure of what to do, but\n",
      "they beckoned her forward.  Without thinking, she stepped into the circle and joined the dance. And\n",
      "for the first time in a long time, she felt alive.\n"
     ]
    }
   ],
   "source": [
    "initial_messages = [{\"role\":\"system\", \"content\": \"You are a creative writer.\"},\n",
    "                    {\"role\": \"user\", \"content\": \"Write something.\"}]\n",
    "completion = openai.ChatCompletion.create(\n",
    "    model=MODEL,\n",
    "    messages= initial_messages)\n",
    "print(_tw.fill(completion.choices[0].message.content, width=100))"
   ]
  },
  {
   "cell_type": "code",
   "execution_count": 27,
   "metadata": {},
   "outputs": [
    {
     "data": {
      "text/plain": [
       "[{'role': 'system', 'content': 'You are a creative writer.'},\n",
       " {'role': 'user', 'content': 'Write something.'},\n",
       " {'role': 'assistant',\n",
       "  'content': 'As the sun slowly sank beneath the horizon, casting an orange glow across the sky, the air around her grew cooler. She pulled her jacket tightly around her, feeling the weight of her backpack on her shoulders. She had been walking for hours, lost in thought and lost in the vast wilderness around her.\\n\\nBut as she trudged forward, she began to hear a faint sound in the distance. At first, she thought it was just her tired mind playing tricks on her. But as she continued down the path, the sound grew louder and more distinct.\\n\\nIt was music.\\n\\nIt was ethereal, haunting, and beautiful all at once. She followed the sound, her heart pounding with anticipation, until she stumbled upon a clearing.\\n\\nAnd there, in the center of the clearing, was a group of people. They were dressed in flowing robes of all colors, their faces illuminated by the glow of the flickering torches surrounding them.\\n\\nAnd they were dancing.\\n\\nShe watched as they spun and twirled around each other, lost in the rhythm of the music. And then, one of them saw her. She froze, unsure of what to do, but they beckoned her forward.\\n\\nWithout thinking, she stepped into the circle and joined the dance. And for the first time in a long time, she felt alive.'},\n",
       " {'role': 'user', 'content': 'The dance was some kind of ritual.'}]"
      ]
     },
     "execution_count": 27,
     "metadata": {},
     "output_type": "execute_result"
    }
   ],
   "source": [
    "new_message = initial_messages + [dict(completion.choices[0].message),\n",
    "                     {'role':'user', 'content' : 'The dance was some kind of ritual.'}]\n",
    "\n",
    "new_message"
   ]
  },
  {
   "cell_type": "code",
   "execution_count": 28,
   "metadata": {},
   "outputs": [
    {
     "name": "stdout",
     "output_type": "stream",
     "text": [
      "As she danced with the group of people, she realized that this wasn't an ordinary dance. The\n",
      "movements were deliberate and had a purpose. Every spin and jump had meaning behind it. She could\n",
      "feel the energy pulsing through the air, the power of the ritual.  It was as if the group was\n",
      "casting a spell, invoking the spirits of nature, the power of the elements, and the wisdom of their\n",
      "ancestors. She knew by instinct that she was in the presence of something old and powerful,\n",
      "something that she couldn't fully comprehend, but that drew her in nonetheless.  As the night wore\n",
      "on, the music grew more intense, the dance more frenzied. She felt herself getting lost in the\n",
      "trance, feeling as if all of her worries and fears were being washed away by the rhythm.  It was\n",
      "then that she realized that this ritual wasn't just for the people in the circle. It was for anyone\n",
      "who needed it. Anyone who had lost their way or felt disconnected from their roots. It was a way of\n",
      "reminding themselves of their connection to the earth and to each other, a way of tapping into the\n",
      "ancient magic that still existed in the world.  As the ritual came to an end, she felt a sense of\n",
      "peace and grounding that she hadn't felt in a long time. She knew that she would never forget this\n",
      "experience. She would always carry the memory of the ritual with her, as a reminder of the power of\n",
      "connection and the magic that still existed in the world.\n"
     ]
    }
   ],
   "source": [
    "completion = openai.ChatCompletion.create(\n",
    "    model=MODEL,\n",
    "    messages= new_message)\n",
    "print(_tw.fill(completion.choices[0].message.content, width=100))"
   ]
  },
  {
   "attachments": {},
   "cell_type": "markdown",
   "metadata": {},
   "source": [
    "Can i just provide a few words and see what happens? No user?"
   ]
  },
  {
   "cell_type": "code",
   "execution_count": 2,
   "metadata": {},
   "outputs": [],
   "source": [
    "initial_messages = [ \n",
    "                    {\"role\": \"assistant\", \"content\" : \"The red \"}]"
   ]
  },
  {
   "cell_type": "code",
   "execution_count": 36,
   "metadata": {},
   "outputs": [
    {
     "name": "stdout",
     "output_type": "stream",
     "text": [
      "color is often associated with love, passion, anger, danger, and excitement. In many cultures, red\n",
      "is also a symbol of good luck, prosperity, and happiness. Red is often used in advertising and\n",
      "marketing to grab attention and evoke strong emotional responses in people. It is also a popular\n",
      "color for holidays such as Christmas and Valentine's Day. In nature, red can be seen in many\n",
      "different forms, such as in sunsets, flowers, and fruits like apples and strawberries.\n"
     ]
    }
   ],
   "source": [
    "\n",
    "completion = openai.ChatCompletion.create(\n",
    "    model=MODEL,\n",
    "    messages= initial_messages)\n",
    "\n",
    "print(_tw.fill(completion.choices[0].message.content, width=100))"
   ]
  },
  {
   "cell_type": "code",
   "execution_count": 5,
   "metadata": {},
   "outputs": [],
   "source": [
    "next_word = openai.ChatCompletion.create(\n",
    "    model=MODEL,\n",
    "    messages= initial_messages,\n",
    "    n=10, max_tokens = 3)"
   ]
  },
  {
   "cell_type": "code",
   "execution_count": 6,
   "metadata": {},
   "outputs": [
    {
     "data": {
      "text/plain": [
       "['balloon',\n",
       " 'panda',\n",
       " 'color can',\n",
       " 'Ford Mustang',\n",
       " 'pillow',\n",
       " 'balloon',\n",
       " 'blood cells',\n",
       " 'There is',\n",
       " 'clothes',\n",
       " 'balloon']"
      ]
     },
     "execution_count": 6,
     "metadata": {},
     "output_type": "execute_result"
    }
   ],
   "source": [
    "[option.message.content for option in next_word.choices]"
   ]
  },
  {
   "attachments": {},
   "cell_type": "markdown",
   "metadata": {},
   "source": [
    "## Graph theory?"
   ]
  },
  {
   "cell_type": "code",
   "execution_count": 3,
   "metadata": {},
   "outputs": [],
   "source": [
    "MODEL = \"gpt-3.5-turbo\"\n",
    "\n",
    "initial_messages = [\n",
    "             {\"role\": \"system\", \"content\": \"You are a graph theorist.\"},\n",
    "             {\"role\": \"user\", \"content\": \"Node A is connected to Node B and C. Node C is also connected to Node D and E.  Node B is connected only to Node A. What is the distance from A to D?\"}\n",
    "             ]"
   ]
  },
  {
   "cell_type": "code",
   "execution_count": 4,
   "metadata": {},
   "outputs": [
    {
     "name": "stdout",
     "output_type": "stream",
     "text": [
      "\n",
      "\n",
      "The distance from A to D can be calculated by counting the minimum number of edges that need to be traversed to reach D from A. \n",
      "\n",
      "One possible path from A to D is A-C-D which involves two edges. Therefore, the distance from A to D is 2.\n"
     ]
    }
   ],
   "source": [
    "completion = openai.ChatCompletion.create(\n",
    "    model=MODEL,\n",
    "    messages= initial_messages)\n",
    "print(completion.choices[0].message.content)"
   ]
  },
  {
   "cell_type": "code",
   "execution_count": 6,
   "metadata": {},
   "outputs": [],
   "source": [
    "new_message = initial_messages + [dict(completion.choices[0].message),\n",
    "                     {'role':'user', 'content' : 'Can you provide a drawing of the graph?'}]"
   ]
  },
  {
   "cell_type": "code",
   "execution_count": 7,
   "metadata": {},
   "outputs": [
    {
     "name": "stdout",
     "output_type": "stream",
     "text": [
      "Certainly, here is a drawing of the graph:\n",
      "\n",
      "```\n",
      "A --- B\n",
      "|     |\n",
      "C --- D\n",
      "     |\n",
      "     E\n",
      "``` \n",
      "\n",
      "Node A is connected to nodes B and C through edges, node B is only connected to node A, node C is connected to nodes A, D, and E through edges, node D is connected to nodes C and E through edges, and node E is only connected to node D.\n"
     ]
    }
   ],
   "source": [
    "completion = openai.ChatCompletion.create(\n",
    "    model=MODEL,\n",
    "    messages= new_message)\n",
    "print(completion.choices[0].message.content)"
   ]
  },
  {
   "cell_type": "code",
   "execution_count": null,
   "metadata": {},
   "outputs": [],
   "source": []
  }
 ],
 "metadata": {
  "kernelspec": {
   "display_name": "openai",
   "language": "python",
   "name": "python3"
  },
  "language_info": {
   "codemirror_mode": {
    "name": "ipython",
    "version": 3
   },
   "file_extension": ".py",
   "mimetype": "text/x-python",
   "name": "python",
   "nbconvert_exporter": "python",
   "pygments_lexer": "ipython3",
   "version": "3.11.0"
  },
  "orig_nbformat": 4
 },
 "nbformat": 4,
 "nbformat_minor": 2
}
