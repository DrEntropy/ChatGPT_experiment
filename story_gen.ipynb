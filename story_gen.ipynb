{
 "cells": [
  {
   "cell_type": "code",
   "execution_count": 30,
   "metadata": {},
   "outputs": [],
   "source": [
    "import openai\n",
    "import textwrap as _tw\n",
    "from credentials import api_key\n",
    "openai.api_key = api_key\n",
    "\n",
    "MODEL = \"gpt-3.5-turbo\"\n",
    "\n",
    "MODEL4 = 'gpt-4'"
   ]
  },
  {
   "attachments": {},
   "cell_type": "markdown",
   "metadata": {},
   "source": [
    "Verify working\n"
   ]
  },
  {
   "cell_type": "code",
   "execution_count": 32,
   "metadata": {},
   "outputs": [
    {
     "name": "stdout",
     "output_type": "stream",
     "text": [
      "appears that way because of the way our atmosphere scatters sunlight. When light from the sun enters\n",
      "our atmosphere, it encounters gases and particles in the air that scatter the light in all different\n",
      "directions. This happens most strongly with shorter, blue wavelengths of light, which is why the sky\n",
      "looks blue to us.\n"
     ]
    }
   ],
   "source": [
    "\n",
    "\n",
    "initial_messages = [{\"role\":\"system\", \"content\": \"You are a helpful assistant.\"},\n",
    "                    {\"role\": \"user\", \"content\": \"Why is the sky blue?\"},\n",
    "                    {\"role\": \"assistant\", \"content\" : \"The sky is not really blue, but \"}]\n",
    "completion = openai.ChatCompletion.create(\n",
    "    model=MODEL,\n",
    "    messages= initial_messages)\n",
    "print(_tw.fill(completion.choices[0].message.content, width=100))"
   ]
  },
  {
   "attachments": {},
   "cell_type": "markdown",
   "metadata": {},
   "source": [
    "## Goals\n",
    "\n",
    "* Generate a story and then interact with it by interjecting changes to it. \n",
    "\n",
    "*  TODO: Allow user to save/load a story.\n",
    "\n",
    "* TODO: Add a method to create a story summary for continuation. (partially done, and seems to work). But Ideally we should have another class that manages the various 'chapters' and can combine them (without the 'story so far' part.)"
   ]
  },
  {
   "cell_type": "code",
   "execution_count": 35,
   "metadata": {},
   "outputs": [
    {
     "name": "stdout",
     "output_type": "stream",
     "text": [
      "were unable to appreciate its full potential due to the heavy traffic on the road.\n"
     ]
    }
   ],
   "source": [
    "initial_messages = [{\"role\":\"system\", \"content\": \"You are a helpful editor.\"},\n",
    "                    {\"role\": \"user\", \"content\": \"Finish the final sentance in this text: The car was very fast! However, we\"} ]\n",
    "completion = openai.ChatCompletion.create(\n",
    "    model=MODEL,\n",
    "    messages= initial_messages)\n",
    "print(_tw.fill(completion.choices[0].message.content, width=100))"
   ]
  },
  {
   "cell_type": "code",
   "execution_count": 67,
   "metadata": {},
   "outputs": [],
   "source": [
    "class gpt_story:\n",
    "    def __init__(self, topic = \"anything\", model = \"gpt-4\", max_tokens = 100):\n",
    "        self.model = model\n",
    "        self.topic = topic\n",
    "        self.max_tokens = max_tokens\n",
    "        self.based_on_summary = False\n",
    "        self.messages = [{\"role\":\"system\", \"content\": \"You are a creative writer.\"},\n",
    "                                 {\"role\": \"user\", \"content\": f\"Write a story about {topic}.\"}]\n",
    "\n",
    "\n",
    "    def query_gpt(self):\n",
    "        completion = openai.ChatCompletion.create(\n",
    "            model=self.model,\n",
    "            messages= self.messages, max_tokens = self.max_tokens)\n",
    "        self.messages = self.messages + [dict(completion.choices[0].message)]\n",
    "\n",
    "    def tell_story(self):\n",
    "        self.query_gpt()\n",
    "        self.clean_up_last_message()\n",
    "        return self\n",
    "    \n",
    "    # This serves to make sure the last message is a complete sentence. Currently if the last sentence is complete\n",
    "    # it still adds another. This is a bug that should be fixed but not critical.\n",
    "    def clean_up_last_message(self):\n",
    "        last_message = self.messages[-1]['content']\n",
    "        cleanup_messages = [{\"role\":\"system\", \"content\": \"You are a helpful editor.\"},\n",
    "                    {\"role\": \"user\", \"content\": \"Finish the final sentence in this text if needed: \" + last_message} ]\n",
    "        completion = openai.ChatCompletion.create(model=MODEL, messages= cleanup_messages)\n",
    "        self.messages[-1]['content'] = last_message + \" \" + completion.choices[0].message.content\n",
    "        return self\n",
    "\n",
    "        \n",
    "    def continue_with(self, message):\n",
    "        message_dict = {'role':'assistant', 'content' : message}\n",
    "        self.messages = self.messages +  [message_dict]\n",
    "        self.tell_story()\n",
    "        return self\n",
    "\n",
    "\n",
    "    def summarize(self): \n",
    "        story_so_far = ' '.join([message['content'] for message in self.messages[2:]])\n",
    "        summary = openai.Completion.create(\n",
    "            model = \"text-davinci-003\",\n",
    "            prompt = story_so_far + \"tl;dr\",\n",
    "            max_tokens = 100\n",
    "        )\n",
    "        # Generate a new story starting with the summary\n",
    "        new_story = gpt_story(topic=self.topic, model=self.model, max_tokens=self.max_tokens)\n",
    "        new_story.messages += [{\"role\": \"user\", \"content\": \"The story so far: \"+summary.choices[0].text}]\n",
    "        new_story.based_on_summary = True\n",
    "        return new_story\n",
    "            \n",
    "\n",
    "    def __repr__(self):\n",
    "        if self.based_on_summary:\n",
    "            return _tw.fill(' '.join([message['content'] for message in self.messages[3:]]), width=120)\n",
    "        return _tw.fill(' '.join([message['content'] for message in self.messages[2:]]), width=120)\n",
    "    \n",
    "    def __len__(self):\n",
    "        return len(self.messages)\n",
    "    \n",
    "    def __getitem__(self, key):\n",
    "        return self.messages[key]\n",
    "    \n",
    "    def __iter__(self):\n",
    "        return iter(self.messages)\n",
    " "
   ]
  },
  {
   "attachments": {},
   "cell_type": "markdown",
   "metadata": {},
   "source": [
    "For demonstration purposes, we will use a short max token length of 60. This will allow us to see the story generation process in a reasonable amount of time."
   ]
  },
  {
   "cell_type": "code",
   "execution_count": 68,
   "metadata": {},
   "outputs": [
    {
     "data": {
      "text/plain": [
       "Once upon a time, there was a young man named Jack who dreamed of sailing the seas. He had a passion for the open water\n",
       "and longed to feel the wind in his hair and the salty mist on his face. Jack had grown up near the ocean and had always\n",
       "been fascinated by the stories that his father would tell him of faraway lands and exotic creatures that could only be\n",
       "found in the vastness of the sea."
      ]
     },
     "execution_count": 68,
     "metadata": {},
     "output_type": "execute_result"
    }
   ],
   "source": [
    "test = gpt_story(\"sailing\", max_tokens=60, model=MODEL)\n",
    "test.tell_story()"
   ]
  },
  {
   "attachments": {},
   "cell_type": "markdown",
   "metadata": {},
   "source": [
    "Ok, we can continue with the story generation process by just calling `tell_story` again and again:"
   ]
  },
  {
   "cell_type": "code",
   "execution_count": 70,
   "metadata": {},
   "outputs": [
    {
     "data": {
      "text/plain": [
       "Once upon a time, there was a young man named Jack who dreamed of sailing the seas. He had a passion for the open water\n",
       "and longed to feel the wind in his hair and the salty mist on his face. Jack had grown up near the ocean and had always\n",
       "been fascinated by the stories that his father would tell him of faraway lands and exotic creatures that could only be\n",
       "found in the vastness of the sea. One day, Jack's dream finally came true. He had saved enough money to purchase a small\n",
       "sailboat and set off on his adventure. The boat was old and weathered, but it was all he needed to start his journey.\n",
       "With supplies and provisions on board, Jack hoisted the sails and let the wind guide him.  Days turned into weeks as he\n",
       "sailed across the ocean. He faced many challenges along the way, from unexpected storms to broken equipment, but he\n",
       "persevered, learning important lessons about navigation and survival along the way. As he sailed, he met other sailors\n",
       "and made new friends , but he always kept his ultimate goal in mind: to reach his destination. He would often say to\n",
       "himself, \"Let the wind guide me,\" and he continued on his journey, trusting in his skills and the forces of nature to\n",
       "lead him to his destination."
      ]
     },
     "execution_count": 70,
     "metadata": {},
     "output_type": "execute_result"
    }
   ],
   "source": [
    "test.tell_story()"
   ]
  },
  {
   "attachments": {},
   "cell_type": "markdown",
   "metadata": {},
   "source": [
    "But, if we want to continue the story in a different way, we can add our own text to the story and then continue from there:"
   ]
  },
  {
   "cell_type": "code",
   "execution_count": 71,
   "metadata": {},
   "outputs": [
    {
     "data": {
      "text/plain": [
       "Once upon a time, there was a young man named Jack who dreamed of sailing the seas. He had a passion for the open water\n",
       "and longed to feel the wind in his hair and the salty mist on his face. Jack had grown up near the ocean and had always\n",
       "been fascinated by the stories that his father would tell him of faraway lands and exotic creatures that could only be\n",
       "found in the vastness of the sea. One day, Jack's dream finally came true. He had saved enough money to purchase a small\n",
       "sailboat and set off on his adventure. The boat was old and weathered, but it was all he needed to start his journey.\n",
       "With supplies and provisions on board, Jack hoisted the sails and let the wind guide him.  Days turned into weeks as he\n",
       "sailed across the ocean. He faced many challenges along the way, from unexpected storms to broken equipment, but he\n",
       "persevered, learning important lessons about navigation and survival along the way. As he sailed, he met other sailors\n",
       "and made new friends , but he always kept his ultimate goal in mind: to reach his destination. He would often say to\n",
       "himself, \"Let the wind guide me,\" and he continued on his journey, trusting in his skills and the forces of nature to\n",
       "lead him to his destination. One day Jack sailed into a small harbor on a tropical island. As he stepped off his boat,\n",
       "he was greeted by the locals who were in awe of his sailboat and the journey he had undertaken. Jack spent several days\n",
       "on the island, exploring its natural beauty and the local culture.  On his departure, Jack realized that his adventure\n",
       "was not just about reaching his destination, but also about the experiences he had along the way."
      ]
     },
     "execution_count": 71,
     "metadata": {},
     "output_type": "execute_result"
    }
   ],
   "source": [
    "test.continue_with(\"One day Jack sailed into a small harbor on a tropical island.\")"
   ]
  },
  {
   "attachments": {},
   "cell_type": "markdown",
   "metadata": {},
   "source": [
    "Finally, if the story starts getting too long, we can summarize it and then continue from there:"
   ]
  },
  {
   "cell_type": "code",
   "execution_count": 72,
   "metadata": {},
   "outputs": [],
   "source": [
    "summary = test.summarize()"
   ]
  },
  {
   "cell_type": "code",
   "execution_count": 73,
   "metadata": {},
   "outputs": [
    {
     "data": {
      "text/plain": [
       "The story so far:  A young man, Jack, saved up to buy a sailboat and set off on an adventure to explore the seas. He\n",
       "faced many challenges along his journey, making new friends and learning important lessons, until he eventually reached\n",
       "a small harbor on a tropical island. His journey was all about the experiences he had along the way."
      ]
     },
     "execution_count": 73,
     "metadata": {},
     "output_type": "execute_result"
    }
   ],
   "source": [
    "summary"
   ]
  },
  {
   "cell_type": "code",
   "execution_count": 75,
   "metadata": {},
   "outputs": [
    {
     "data": {
      "text/plain": [
       "The story so far:  A young man, Jack, saved up to buy a sailboat and set off on an adventure to explore the seas. He\n",
       "faced many challenges along his journey, making new friends and learning important lessons, until he eventually reached\n",
       "a small harbor on a tropical island. His journey was all about the experiences he had along the way. When Jack sailed\n",
       "into the harbor of the small island, he was taken aback by its beauty. The water was crystal clear and bright blue, and\n",
       "the sand on the shore was as white as snow. He decided to anchor his sailboat and swim to shore to explore the little\n",
       "island.  As he walked along the beach, he noticed the lush vegetation and colorful flowers that surrounded him, making\n",
       "him feel like he had stepped into a tropical paradise."
      ]
     },
     "execution_count": 75,
     "metadata": {},
     "output_type": "execute_result"
    }
   ],
   "source": [
    "summary.tell_story()"
   ]
  }
 ],
 "metadata": {
  "kernelspec": {
   "display_name": "openai",
   "language": "python",
   "name": "python3"
  },
  "language_info": {
   "codemirror_mode": {
    "name": "ipython",
    "version": 3
   },
   "file_extension": ".py",
   "mimetype": "text/x-python",
   "name": "python",
   "nbconvert_exporter": "python",
   "pygments_lexer": "ipython3",
   "version": "3.11.0"
  },
  "orig_nbformat": 4
 },
 "nbformat": 4,
 "nbformat_minor": 2
}
