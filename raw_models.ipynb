{
 "cells": [
  {
   "cell_type": "code",
   "execution_count": 2,
   "metadata": {},
   "outputs": [],
   "source": [
    "import openai\n",
    "import textwrap as _tw\n",
    "from credentials import api_key\n",
    "openai.api_key = api_key"
   ]
  },
  {
   "cell_type": "markdown",
   "metadata": {},
   "source": [
    "Which models are curie models?"
   ]
  },
  {
   "cell_type": "code",
   "execution_count": 7,
   "metadata": {},
   "outputs": [
    {
     "data": {
      "text/plain": [
       "['curie',\n",
       " 'curie-instruct-beta',\n",
       " 'curie-search-document',\n",
       " 'curie-search-query',\n",
       " 'curie-similarity',\n",
       " 'text-curie-001',\n",
       " 'text-search-curie-doc-001',\n",
       " 'text-search-curie-query-001',\n",
       " 'text-similarity-curie-001']"
      ]
     },
     "execution_count": 7,
     "metadata": {},
     "output_type": "execute_result"
    }
   ],
   "source": [
    "model_list = openai.Model.list()\n",
    "models = [ item.root for item in model_list.data] \n",
    "models.sort()\n",
    "[ model for model in models if 'curie' in model]"
   ]
  },
  {
   "cell_type": "markdown",
   "metadata": {},
   "source": [
    "This fine tuned model at least answers the question"
   ]
  },
  {
   "cell_type": "code",
   "execution_count": 22,
   "metadata": {},
   "outputs": [
    {
     "name": "stdout",
     "output_type": "stream",
     "text": [
      "  The sky's blue because of a mix of ammonia, water vapor, and air molecules. The only reason that\n",
      "the sky is blue is because there are a lot of bright objects in the sky. When those objects reflect\n",
      "sunlight, dark colors become blue.\n"
     ]
    }
   ],
   "source": [
    "prompt = \"You are a helpful assistant that will answer questions.  Answer this: Why is the sky blue?\"\n",
    "completion = openai.Completion.create(\n",
    "    model='curie-instruct-beta',\n",
    "    prompt= prompt, \n",
    "    max_tokens=100,)\n",
    "print(_tw.fill(completion.choices[0].text, width=100))"
   ]
  },
  {
   "cell_type": "markdown",
   "metadata": {},
   "source": [
    "This raw model does not."
   ]
  },
  {
   "cell_type": "code",
   "execution_count": 23,
   "metadata": {},
   "outputs": [
    {
     "name": "stdout",
     "output_type": "stream",
     "text": [
      " ------------------- If it is: I have seen that many quizzes on social networking sites are becoming\n",
      "popular recently. Online Career Quiz What is the average salary for an office clerk?\n",
      "------------------- If it is: What are the tasks these people perform at the office? The setookie\n",
      "method Age can alter the taste perception of how sweet some food items are. If we increase or\n",
      "decrease the ratio of the ratio of salt to sugar to carbonate to subtract acidity, the taste of a,\n",
      "b,\n"
     ]
    }
   ],
   "source": [
    "\n",
    "completion = openai.Completion.create(\n",
    "    model='curie',\n",
    "    prompt= prompt, max_tokens=100,)\n",
    "print(_tw.fill(completion.choices[0].text, width=100))"
   ]
  },
  {
   "cell_type": "markdown",
   "metadata": {},
   "source": [
    "text-curie-001 seems to do much better"
   ]
  },
  {
   "cell_type": "code",
   "execution_count": 24,
   "metadata": {},
   "outputs": [
    {
     "name": "stdout",
     "output_type": "stream",
     "text": [
      "  The sky is blue because of the sunlight hitting the atmosphere. The sunlight scattered by the\n",
      "particles in the atmosphere causes blue light to be scattered more then other colors.\n"
     ]
    }
   ],
   "source": [
    "\n",
    "completion = openai.Completion.create(\n",
    "    model='text-curie-001',\n",
    "    prompt= prompt, max_tokens=100,)\n",
    "print(_tw.fill(completion.choices[0].text, width=100))"
   ]
  },
  {
   "cell_type": "markdown",
   "metadata": {},
   "source": [
    "Can we get raw curie to do better with a different prompt?"
   ]
  },
  {
   "cell_type": "code",
   "execution_count": 47,
   "metadata": {},
   "outputs": [],
   "source": [
    "prompt = \"You are a helpful assistant that will answer questions. Here are examples.\"\\\n",
    "          \"\\nAnswer this: Why do things fall? \\nResponse: Because of gravity.\\n\"\\\n",
    "          \"\\nAnswer this: Why do dogs bark? \\nResponse: Because they can.\\n\"\\\n",
    "          \"\\nAnswer this: Why is the sky blue?\""
   ]
  },
  {
   "cell_type": "code",
   "execution_count": 48,
   "metadata": {},
   "outputs": [
    {
     "name": "stdout",
     "output_type": "stream",
     "text": [
      "You are a helpful assistant that will answer questions. Here are examples.\n",
      "Answer this: Why do things fall? \n",
      "Response: Because of gravity.\n",
      "\n",
      "Answer this: Why do dogs bark? \n",
      "Response: Because they can.\n",
      "\n",
      "Answer this: Why is the sky blue?\n"
     ]
    }
   ],
   "source": [
    "print(prompt)"
   ]
  },
  {
   "cell_type": "code",
   "execution_count": 49,
   "metadata": {},
   "outputs": [
    {
     "name": "stdout",
     "output_type": "stream",
     "text": [
      "  Response: Stars in the sky are small sparks and some of us think that to look bright is what we\n",
      "are meant to do.  In many cities in Colombia, a class like this helps teachers acquire the skills\n",
      "that will let them teach to students who come from all walks of life and have a wide range of\n",
      "educational needs.  Immicultural is like English as a Second Language except in this case it's not\n",
      "English and the Spanish of the native or official language of the country where\n"
     ]
    }
   ],
   "source": [
    "completion = openai.Completion.create(\n",
    "    model='curie',\n",
    "    prompt= prompt, max_tokens=100,)\n",
    "print(_tw.fill(completion.choices[0].text, width=100))"
   ]
  },
  {
   "cell_type": "code",
   "execution_count": 51,
   "metadata": {},
   "outputs": [
    {
     "name": "stdout",
     "output_type": "stream",
     "text": [
      "   The sky is blue because of sunlight.\n"
     ]
    }
   ],
   "source": [
    "completion = openai.Completion.create(\n",
    "    model='text-curie-001',\n",
    "    prompt= prompt, max_tokens=100,)\n",
    "print(_tw.fill(completion.choices[0].text, width=100))"
   ]
  },
  {
   "cell_type": "markdown",
   "metadata": {},
   "source": [
    "Now compare to divinci"
   ]
  },
  {
   "cell_type": "code",
   "execution_count": 52,
   "metadata": {},
   "outputs": [
    {
     "data": {
      "text/plain": [
       "['code-davinci-edit-001',\n",
       " 'davinci',\n",
       " 'davinci-instruct-beta',\n",
       " 'davinci-search-document',\n",
       " 'davinci-search-query',\n",
       " 'davinci-similarity',\n",
       " 'text-davinci-001',\n",
       " 'text-davinci-002',\n",
       " 'text-davinci-003',\n",
       " 'text-davinci-edit-001',\n",
       " 'text-search-davinci-doc-001',\n",
       " 'text-search-davinci-query-001',\n",
       " 'text-similarity-davinci-001']"
      ]
     },
     "execution_count": 52,
     "metadata": {},
     "output_type": "execute_result"
    }
   ],
   "source": [
    "[ model for model in models if 'davinci' in model]"
   ]
  },
  {
   "cell_type": "code",
   "execution_count": 53,
   "metadata": {},
   "outputs": [
    {
     "name": "stdout",
     "output_type": "stream",
     "text": [
      "  Response: Because of the way sunlight scatters off of molecules in our atmosphere.\n"
     ]
    }
   ],
   "source": [
    "completion = openai.Completion.create(\n",
    "    model= 'text-davinci-003',\n",
    "    prompt= prompt, max_tokens=100,)\n",
    "print(_tw.fill(completion.choices[0].text, width=100))"
   ]
  },
  {
   "cell_type": "markdown",
   "metadata": {},
   "source": [
    "And finally gpt-4"
   ]
  },
  {
   "cell_type": "code",
   "execution_count": 58,
   "metadata": {},
   "outputs": [
    {
     "data": {
      "text/plain": [
       "[{'role': 'user',\n",
       "  'content': 'You are a helpful assistant that will answer questions. Here are examples.\\nAnswer this: Why do things fall? \\nResponse: Because of gravity.\\n\\nAnswer this: Why do dogs bark? \\nResponse: Because they can.\\n\\nAnswer this: Why is the sky blue?'}]"
      ]
     },
     "execution_count": 58,
     "metadata": {},
     "output_type": "execute_result"
    }
   ],
   "source": [
    "messages = [ {\"role\": \"user\", \"content\": prompt}]\n",
    "messages"
   ]
  },
  {
   "cell_type": "code",
   "execution_count": 59,
   "metadata": {},
   "outputs": [
    {
     "name": "stdout",
     "output_type": "stream",
     "text": [
      "Response: The sky appears blue because molecules in the Earth's atmosphere scatter sunlight in all\n",
      "directions and blue light is scattered more than other colors because it travels in smaller, shorter\n",
      "waves. This is known as Rayleigh scattering.\n"
     ]
    }
   ],
   "source": [
    "\n",
    "completion = openai.ChatCompletion.create(\n",
    "    model=\"gpt-4\",\n",
    "    messages= messages)\n",
    "print(_tw.fill(completion.choices[0].message.content, width=100))"
   ]
  },
  {
   "cell_type": "code",
   "execution_count": null,
   "metadata": {},
   "outputs": [],
   "source": []
  }
 ],
 "metadata": {
  "kernelspec": {
   "display_name": "openai",
   "language": "python",
   "name": "python3"
  },
  "language_info": {
   "codemirror_mode": {
    "name": "ipython",
    "version": 3
   },
   "file_extension": ".py",
   "mimetype": "text/x-python",
   "name": "python",
   "nbconvert_exporter": "python",
   "pygments_lexer": "ipython3",
   "version": "3.11.0"
  },
  "orig_nbformat": 4
 },
 "nbformat": 4,
 "nbformat_minor": 2
}
