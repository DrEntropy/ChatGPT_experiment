{
 "cells": [
  {
   "cell_type": "code",
   "execution_count": 1,
   "metadata": {},
   "outputs": [],
   "source": [
    "import openai\n",
    "import textwrap as _tw\n",
    "from credentials import api_key\n",
    "openai.api_key = api_key\n",
    "\n",
    "MODEL = \"gpt-3.5-turbo\"\n",
    "\n",
    "MODEL4 = 'gpt-4'"
   ]
  },
  {
   "attachments": {},
   "cell_type": "markdown",
   "metadata": {},
   "source": [
    "Verify working\n"
   ]
  },
  {
   "cell_type": "code",
   "execution_count": 2,
   "metadata": {},
   "outputs": [
    {
     "name": "stdout",
     "output_type": "stream",
     "text": [
      "it appears blue to us because of a phenomenon called Rayleigh scattering. This is when the Earth's\n",
      "atmosphere scatters sunlight in all directions, and blue light is scattered more than other colors\n",
      "because it travels in smaller and shorter wavelengths. As a result, we see blue light more\n",
      "frequently and the sky appears blue during the daytime.\n"
     ]
    }
   ],
   "source": [
    "\n",
    "\n",
    "initial_messages = [{\"role\":\"system\", \"content\": \"You are a helpful assistant.\"},\n",
    "                    {\"role\": \"user\", \"content\": \"Why is the sky blue?\"},\n",
    "                    {\"role\": \"assistant\", \"content\" : \"The sky is not really blue, but \"}]\n",
    "completion = openai.ChatCompletion.create(\n",
    "    model=MODEL,\n",
    "    messages= initial_messages)\n",
    "print(_tw.fill(completion.choices[0].message.content, width=100))"
   ]
  },
  {
   "attachments": {},
   "cell_type": "markdown",
   "metadata": {},
   "source": [
    "## Goals\n",
    "\n",
    "* Generate a story and then interact with it by interjecting changes to it. \n",
    "\n",
    "*  TODO:  Allow use to back up a bit somehow. \n",
    "\n",
    "*  TODO: Allow user to save/load a story.\n",
    "\n",
    "* TODO: Add a method to create a story summary for continuation."
   ]
  },
  {
   "cell_type": "code",
   "execution_count": 36,
   "metadata": {},
   "outputs": [],
   "source": [
    "class gpt_story:\n",
    "    def __init__(self, topic = \"anything\", model = \"gpt-4\", max_tokens = 100):\n",
    "        self.model = model\n",
    "        self.max_tokens = max_tokens\n",
    "        self.messages = [{\"role\":\"system\", \"content\": \"You are a creative writer.\"},\n",
    "                                 {\"role\": \"user\", \"content\": f\"Write a story about {topic}.\"}]\n",
    "        completion = openai.ChatCompletion.create(\n",
    "            model=self.model,\n",
    "            messages= self.messages, max_tokens = self.max_tokens)\n",
    "        self.messages = self.messages + [dict(completion.choices[0].message)]\n",
    "        \n",
    "    def continue_with(self, message):\n",
    "        message_dict = {'role':'assistant', 'content' : message}\n",
    "        self.messages = self.messages +  [message_dict]\n",
    "        completion = openai.ChatCompletion.create(\n",
    "            model=self.model,\n",
    "            messages= self.messages, max_tokens = self.max_tokens)\n",
    "        self.messages = self.messages + [dict(completion.choices[0].message)]\n",
    "        \n",
    "    \n",
    "    def __repr__(self):\n",
    "        return _tw.fill(' '.join([message['content'] for message in self.messages]), width=120)\n",
    "    \n",
    "    def __len__(self):\n",
    "        return len(self.messages)\n",
    "    \n",
    "    def __getitem__(self, key):\n",
    "        return self.messages[key]\n",
    "    \n",
    "    def __iter__(self):\n",
    "        return iter(self.messages)\n",
    " "
   ]
  },
  {
   "cell_type": "code",
   "execution_count": 37,
   "metadata": {},
   "outputs": [
    {
     "data": {
      "text/plain": [
       "You are a creative writer. Write a story about sailing. Once upon a time, in a calm coastal town, nestled between the\n",
       "sun and the sea, there was a sailor named Thomas. Thomas was a vibrant and hearty man, brimming with life, and his\n",
       "greatest passion was sailing. Now, this wasn"
      ]
     },
     "execution_count": 37,
     "metadata": {},
     "output_type": "execute_result"
    }
   ],
   "source": [
    "test = gpt_story(\"sailing\", max_tokens=50)\n",
    "test "
   ]
  },
  {
   "cell_type": "code",
   "execution_count": 38,
   "metadata": {},
   "outputs": [
    {
     "data": {
      "text/plain": [
       "You are a creative writer. Write a story about sailing. Once upon a time, in a calm coastal town, nestled between the\n",
       "sun and the sea, there was a sailor named Thomas. Thomas was a vibrant and hearty man, brimming with life, and his\n",
       "greatest passion was sailing. Now, this wasn 't the greatest sailor, but he made up for it with passion. The townspeople\n",
       "loved listening to the tales of his adventures, as he navigated his small wooden boat, named Serenity, to faraway lands\n",
       "and discovered new treasures. Much like the changing tides that lapped upon the shores of their coastal haven"
      ]
     },
     "execution_count": 38,
     "metadata": {},
     "output_type": "execute_result"
    }
   ],
   "source": [
    "test.continue_with(\"'t the greatest sailor, but he made up for it with passion.\")\n",
    "test"
   ]
  },
  {
   "cell_type": "code",
   "execution_count": 39,
   "metadata": {},
   "outputs": [
    {
     "data": {
      "text/plain": [
       "5"
      ]
     },
     "execution_count": 39,
     "metadata": {},
     "output_type": "execute_result"
    }
   ],
   "source": [
    "len(test)"
   ]
  },
  {
   "cell_type": "code",
   "execution_count": null,
   "metadata": {},
   "outputs": [],
   "source": []
  }
 ],
 "metadata": {
  "kernelspec": {
   "display_name": "openai",
   "language": "python",
   "name": "python3"
  },
  "language_info": {
   "codemirror_mode": {
    "name": "ipython",
    "version": 3
   },
   "file_extension": ".py",
   "mimetype": "text/x-python",
   "name": "python",
   "nbconvert_exporter": "python",
   "pygments_lexer": "ipython3",
   "version": "3.11.3"
  },
  "orig_nbformat": 4
 },
 "nbformat": 4,
 "nbformat_minor": 2
}
